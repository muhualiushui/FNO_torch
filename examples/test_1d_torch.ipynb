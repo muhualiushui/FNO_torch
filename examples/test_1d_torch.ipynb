{
 "cells": [
  {
   "cell_type": "code",
   "execution_count": 1,
   "metadata": {},
   "outputs": [],
   "source": [
    "import torch\n",
    "import matplotlib.pyplot as plt\n",
    "import scipy.io\n",
    "from tqdm import tqdm\n",
    "from FNO import FNO1d, get_dataloader\n",
    "\n",
    "# -- Load and preprocess data --\n",
    "data = scipy.io.loadmat('data/burgers_data_R10.mat')\n",
    "a, u = data['a'], data['u']\n",
    "a = torch.from_numpy(a).unsqueeze(1).float()\n",
    "u = torch.from_numpy(u).unsqueeze(1).float()"
   ]
  },
  {
   "cell_type": "code",
   "execution_count": 2,
   "metadata": {},
   "outputs": [],
   "source": [
    "\n",
    "# add spatial mesh as extra channel\n",
    "mesh = torch.linspace(0, 2*torch.pi, u.size(-1))\n",
    "mesh_b = mesh.view(1,1,-1).repeat(u.size(0),1,1)\n",
    "a_with_mesh = torch.cat((a, mesh_b), dim=1)\n",
    "\n",
    "# split train/test\n",
    "train_input  = a_with_mesh[:1000]\n",
    "train_label  = u[:1000]\n",
    "test_input   = a_with_mesh[1000:1200]\n",
    "test_label   = u[1000:1200]"
   ]
  },
  {
   "cell_type": "code",
   "execution_count": 3,
   "metadata": {},
   "outputs": [
    {
     "name": "stderr",
     "output_type": "stream",
     "text": [
      "/opt/anaconda3/envs/General/lib/python3.12/site-packages/tqdm/auto.py:21: TqdmWarning: IProgress not found. Please update jupyter and ipywidgets. See https://ipywidgets.readthedocs.io/en/stable/user_install.html\n",
      "  from .autonotebook import tqdm as notebook_tqdm\n"
     ]
    }
   ],
   "source": [
    "# -- Model, optimizer, loader setup --\n",
    "device      = torch.device('cuda' if torch.cuda.is_available() else 'cpu')\n",
    "in_c, out_c = 2, 1\n",
    "modes, width= 16, 64\n",
    "fno         = FNO1d(in_c, out_c, modes, width, torch.relu).to(device)\n",
    "\n",
    "batch_size  = 100\n",
    "train_loader= get_dataloader(train_input, train_label, batch_size)\n",
    "test_loader = get_dataloader(test_input, test_label, batch_size, shuffle=False)\n",
    "\n",
    "optimizer   = torch.optim.Adam(fno.parameters(), lr=3e-4)\n",
    "epochs      = 10\n"
   ]
  },
  {
   "cell_type": "code",
   "execution_count": null,
   "metadata": {},
   "outputs": [
    {
     "name": "stderr",
     "output_type": "stream",
     "text": [
      "  0%|          | 0/10 [00:00<?, ?it/s]"
     ]
    }
   ],
   "source": [
    "# -- Training --\n",
    "history = fno.train_model(train_loader, test_loader, optimizer, epochs, device)\n"
   ]
  },
  {
   "cell_type": "code",
   "execution_count": null,
   "metadata": {},
   "outputs": [],
   "source": [
    "# -- Plot losses --\n",
    "plt.figure()\n",
    "plt.plot(history['train_loss'], label='train loss')\n",
    "plt.plot(history['val_loss'],   label='val loss')\n",
    "plt.yscale('log'); plt.legend()\n",
    "plt.title('Training History')\n",
    "plt.show()\n",
    "\n",
    "# -- Plot a sample prediction --\n",
    "pos = 3\n",
    "x0  = test_input[pos:pos+1].to(device)\n",
    "y0  = test_label[pos:pos+1].to(device)\n",
    "pred= fno(x0).cpu().detach().numpy()[0,0,:]\n",
    "\n",
    "plt.figure()\n",
    "plt.plot(x0.cpu().numpy()[0,0,::32], label='initial')\n",
    "plt.plot(y0.cpu().numpy()[0,0,::32], label='truth')\n",
    "plt.plot(pred[::32],               label='prediction')\n",
    "plt.legend(); plt.title(f'Sample #{pos}')\n",
    "plt.show()"
   ]
  }
 ],
 "metadata": {
  "kernelspec": {
   "display_name": "General",
   "language": "python",
   "name": "python3"
  },
  "language_info": {
   "codemirror_mode": {
    "name": "ipython",
    "version": 3
   },
   "file_extension": ".py",
   "mimetype": "text/x-python",
   "name": "python",
   "nbconvert_exporter": "python",
   "pygments_lexer": "ipython3",
   "version": "3.12.2"
  }
 },
 "nbformat": 4,
 "nbformat_minor": 2
}
