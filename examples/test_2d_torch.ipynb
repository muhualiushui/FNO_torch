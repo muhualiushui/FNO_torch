{
 "cells": [
  {
   "cell_type": "code",
   "execution_count": null,
   "metadata": {},
   "outputs": [],
   "source": [
    "import numpy as np\n",
    "import torch\n",
    "from torch.optim import Adam\n",
    "from FNO import FNO2d, get_dataloader\n",
    "import matplotlib.pyplot as plt\n",
    "\n",
    "# 1. load & preprocess data\n",
    "# adjust paths as needed\n",
    "X = np.load(\"../Fourier/navier/test_inputs.npy\")[:,:,:,0,0,0]\n",
    "Y = np.load(\"../Fourier/navier/test_label.npy\")[:,:,:,0,0,0]\n"
   ]
  },
  {
   "cell_type": "code",
   "execution_count": null,
   "metadata": {},
   "outputs": [],
   "source": [
    "# add channel dim\n",
    "X = X[:, None, :, :]\n",
    "Y = Y[:, None, :, :]\n",
    "\n",
    "in_channel  = 16\n",
    "out_channel = 16\n",
    "modes1 = modes2 = 16\n",
    "width  = 64\n",
    "\n",
    "# replicate to match in/out channels\n",
    "X = np.repeat(X, in_channel, axis=1)\n",
    "Y = np.repeat(Y, out_channel, axis=1)\n"
   ]
  },
  {
   "cell_type": "code",
   "execution_count": null,
   "metadata": {},
   "outputs": [],
   "source": [
    "# split train / test\n",
    "train_input  = torch.tensor(X[:10000], dtype=torch.float32)\n",
    "train_label  = torch.tensor(Y[:10000], dtype=torch.float32)\n",
    "test_input   = torch.tensor(X[10000:11000], dtype=torch.float32)\n",
    "test_label   = torch.tensor(Y[10000:11000], dtype=torch.float32)\n",
    "\n",
    "# 2. dataloaders\n",
    "batch_size = 100\n",
    "train_loader = get_dataloader(train_input, train_label, batch_size, shuffle=True)\n",
    "test_loader  = get_dataloader(test_input,  test_label,  batch_size, shuffle=False)\n",
    "\n",
    "# 3. device, model, optimizer\n",
    "device = torch.device(\"cuda\" if torch.cuda.is_available() else \"cpu\")\n",
    "model = FNO2d(in_channel, out_channel, modes1, modes2, width, torch.relu).to(device)\n",
    "optimizer = Adam(model.parameters(), lr=3e-4)\n"
   ]
  },
  {
   "cell_type": "code",
   "execution_count": null,
   "metadata": {},
   "outputs": [],
   "source": [
    "# 4. train\n",
    "epochs = 100\n",
    "history = model.train_model(train_loader, test_loader, optimizer, epochs, device)"
   ]
  },
  {
   "cell_type": "code",
   "execution_count": null,
   "metadata": {},
   "outputs": [],
   "source": [
    "# 5. plot losses\n",
    "plt.figure()\n",
    "plt.plot(history['train_loss'], label='train')\n",
    "plt.plot(history['val_loss'],   label='val')\n",
    "plt.xlabel(\"Epoch\")\n",
    "plt.ylabel(\"MSE Loss\")\n",
    "plt.legend()\n",
    "plt.show()"
   ]
  }
 ],
 "metadata": {
  "kernelspec": {
   "display_name": "General",
   "language": "python",
   "name": "python3"
  },
  "language_info": {
   "name": "python",
   "version": "3.12.2"
  }
 },
 "nbformat": 4,
 "nbformat_minor": 2
}
